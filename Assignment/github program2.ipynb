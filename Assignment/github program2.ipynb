{
 "cells": [
  {
   "cell_type": "code",
   "execution_count": 1,
   "id": "6d4cd0e0",
   "metadata": {},
   "outputs": [],
   "source": [
    "import csv"
   ]
  },
  {
   "cell_type": "code",
   "execution_count": 10,
   "id": "55e60202",
   "metadata": {},
   "outputs": [
    {
     "name": "stdout",
     "output_type": "stream",
     "text": [
      "['sid', 'sname', 'sub1', 'sub2', 'sub3', 'sub4', 'sub5']\n",
      "['1', 'om', '78', '87', '89', '67', '78']\n",
      "['2', 'sai', '88', '80', '92', '75', '78']\n",
      "['3', 'ram', '60', '55', '88', '86', '88']\n",
      "['4', 'radha', '60', '50', '80', '86', '67']\n",
      "['5', 'shyam', '90', '55', '60', '68', '76']\n",
      "['6', 'rudra', '87', '55', '87', '69', '76']\n",
      "['7', 'kashi', '87', '87', '90', '60', '70']\n",
      "['8', 'prarabdh', '95', '87', '80', '78', '80']\n",
      "['10', 'anjali', '96', '92', '90', '88', '85']\n"
     ]
    }
   ],
   "source": [
    "f=open(\"D:\\\\23BCA284\\\\sqlite3\\\\csv\\\\result.csv\",\"r\") \n",
    "r=csv.reader(f)\n",
    "for i in r:\n",
    "    print(i)"
   ]
  },
  {
   "cell_type": "code",
   "execution_count": 11,
   "id": "848520b4",
   "metadata": {},
   "outputs": [],
   "source": [
    "f.close()"
   ]
  },
  {
   "cell_type": "markdown",
   "id": "7b5f478c",
   "metadata": {},
   "source": [
    "## print marksheet"
   ]
  },
  {
   "cell_type": "code",
   "execution_count": 33,
   "id": "8f1d729f",
   "metadata": {},
   "outputs": [
    {
     "ename": "KeyError",
     "evalue": "2",
     "output_type": "error",
     "traceback": [
      "\u001b[1;31m---------------------------------------------------------------------------\u001b[0m",
      "\u001b[1;31mKeyError\u001b[0m                                  Traceback (most recent call last)",
      "Input \u001b[1;32mIn [33]\u001b[0m, in \u001b[0;36m<cell line: 1>\u001b[1;34m()\u001b[0m\n\u001b[0;32m      2\u001b[0m reader \u001b[38;5;241m=\u001b[39m csv\u001b[38;5;241m.\u001b[39mDictReader(f)\n\u001b[0;32m      3\u001b[0m \u001b[38;5;28;01mfor\u001b[39;00m i \u001b[38;5;129;01min\u001b[39;00m reader:\n\u001b[1;32m----> 4\u001b[0m     total\u001b[38;5;241m=\u001b[39m\u001b[43mi\u001b[49m\u001b[43m[\u001b[49m\u001b[38;5;241;43m2\u001b[39;49m\u001b[43m]\u001b[49m\u001b[38;5;241m+\u001b[39mi[\u001b[38;5;241m3\u001b[39m]\u001b[38;5;241m+\u001b[39mi[\u001b[38;5;241m4\u001b[39m]\u001b[38;5;241m+\u001b[39mi[\u001b[38;5;241m5\u001b[39m]\u001b[38;5;241m+\u001b[39mi[\u001b[38;5;241m6\u001b[39m]\n\u001b[0;32m      5\u001b[0m     per\u001b[38;5;241m=\u001b[39mtotal\u001b[38;5;241m/\u001b[39m\u001b[38;5;241m5\u001b[39m\n\u001b[0;32m      6\u001b[0m     \u001b[38;5;28mprint\u001b[39m(\u001b[38;5;124m\"\u001b[39m\u001b[38;5;132;01m{}\u001b[39;00m\u001b[38;5;124m \u001b[39m\u001b[38;5;130;01m\\t\u001b[39;00m\u001b[38;5;124m \u001b[39m\u001b[38;5;132;01m{}\u001b[39;00m\u001b[38;5;124m \u001b[39m\u001b[38;5;130;01m\\t\u001b[39;00m\u001b[38;5;124m \u001b[39m\u001b[38;5;132;01m{}\u001b[39;00m\u001b[38;5;124m \u001b[39m\u001b[38;5;130;01m\\t\u001b[39;00m\u001b[38;5;124m \u001b[39m\u001b[38;5;132;01m{}\u001b[39;00m\u001b[38;5;124m \u001b[39m\u001b[38;5;130;01m\\t\u001b[39;00m\u001b[38;5;124m \u001b[39m\u001b[38;5;132;01m{}\u001b[39;00m\u001b[38;5;124m \u001b[39m\u001b[38;5;130;01m\\t\u001b[39;00m\u001b[38;5;124m \u001b[39m\u001b[38;5;132;01m{}\u001b[39;00m\u001b[38;5;124m \u001b[39m\u001b[38;5;130;01m\\t\u001b[39;00m\u001b[38;5;124m \u001b[39m\u001b[38;5;132;01m{}\u001b[39;00m\u001b[38;5;124m \u001b[39m\u001b[38;5;130;01m\\t\u001b[39;00m\u001b[38;5;124m \u001b[39m\u001b[38;5;132;01m{}\u001b[39;00m\u001b[38;5;124m \u001b[39m\u001b[38;5;130;01m\\t\u001b[39;00m\u001b[38;5;124m \u001b[39m\u001b[38;5;132;01m{}\u001b[39;00m\u001b[38;5;124m\"\u001b[39m\u001b[38;5;241m.\u001b[39mformat(i[o],i[\u001b[38;5;241m1\u001b[39m],i[\u001b[38;5;241m2\u001b[39m],[\u001b[38;5;241m3\u001b[39m],[\u001b[38;5;241m4\u001b[39m],[\u001b[38;5;241m5\u001b[39m],[\u001b[38;5;241m6\u001b[39m],total,per))\n",
      "\u001b[1;31mKeyError\u001b[0m: 2"
     ]
    }
   ],
   "source": [
    "with open('D:\\\\23BCA284\\\\sqlite3\\\\csv\\\\result.csv','r') as f:\n",
    "    reader = csv.DictReader(f)\n",
    "    for i in reader:\n",
    "        total=i[2]+i[3]+i[4]+i[5]+i[6]\n",
    "        per=total/5\n",
    "        print(\"{} \\t {} \\t {} \\t {} \\t {} \\t {} \\t {} \\t {} \\t {}\".format(i[o],i[1],i[2],[3],[4],[5],[6],total,per))\n",
    "          "
   ]
  },
  {
   "cell_type": "code",
   "execution_count": null,
   "id": "7553580b",
   "metadata": {},
   "outputs": [],
   "source": []
  }
 ],
 "metadata": {
  "kernelspec": {
   "display_name": "Python 3 (ipykernel)",
   "language": "python",
   "name": "python3"
  },
  "language_info": {
   "codemirror_mode": {
    "name": "ipython",
    "version": 3
   },
   "file_extension": ".py",
   "mimetype": "text/x-python",
   "name": "python",
   "nbconvert_exporter": "python",
   "pygments_lexer": "ipython3",
   "version": "3.9.12"
  }
 },
 "nbformat": 4,
 "nbformat_minor": 5
}
